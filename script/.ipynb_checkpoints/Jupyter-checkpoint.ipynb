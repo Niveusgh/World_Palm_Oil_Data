{
 "cells": [
  {
   "cell_type": "code",
   "execution_count": 1,
   "metadata": {},
   "outputs": [],
   "source": [
    "import pandas as pd\n",
    "import numpy as np\n",
    "import os\n",
    "import matplotlib.pyplot as plt\n",
    "from IPython.display import Image\n",
    "\n"
   ]
  },
  {
   "cell_type": "code",
   "execution_count": 2,
   "metadata": {},
   "outputs": [],
   "source": [
    "# read files from data folder \n",
    "CSV_PATH_PALM = os.path.join('..', 'data','palm_oil_production.csv')\n",
    "CSV_PATH_FOREST = os.path.join('..', 'data','change_forest.csv')\n",
    "CSV_PATH_LAND = os.path.join('..', 'data','land_use_palm.csv')\n"
   ]
  },
  {
   "cell_type": "code",
   "execution_count": 3,
   "metadata": {},
   "outputs": [],
   "source": [
    "\n",
    "COLS_TO_USE = ['Entity', 'Code', \n",
    "              'Year', 'Tonnes']\n",
    "\n",
    "df_palm = pd.read_csv(CSV_PATH_PALM, usecols=COLS_TO_USE)\n",
    "df_forest = pd.read_csv(CSV_PATH_FOREST)\n",
    "df_land = pd.read_csv(CSV_PATH_LAND)\n"
   ]
  },
  {
   "cell_type": "code",
   "execution_count": 4,
   "metadata": {},
   "outputs": [],
   "source": [
    "# simplify column names of dataframe \n",
    "df_forest.rename(columns={\"Annual net change in forest area\": \n",
    "                        \"Forest_Change\"}, inplace=True)\n",
    "\n",
    "df_land.rename(columns={\"Crops - Oil palm fruit - 254 - Area harvested - 5312 - ha\": \n",
    "                                \"Palm_Land_Use\"}, inplace=True)\n"
   ]
  },
  {
   "cell_type": "code",
   "execution_count": 5,
   "metadata": {},
   "outputs": [
    {
     "data": {
      "text/plain": [
       "Entity             0\n",
       "Code             934\n",
       "Year               0\n",
       "Palm_Land_Use      0\n",
       "dtype: int64"
      ]
     },
     "execution_count": 5,
     "metadata": {},
     "output_type": "execute_result"
    }
   ],
   "source": [
    "\n",
    "# data cleaning\n",
    "# check for null values\n",
    "df_palm.isnull().sum()\n",
    "df_forest.isnull().sum()\n",
    "df_land.isnull().sum()\n"
   ]
  },
  {
   "cell_type": "code",
   "execution_count": 6,
   "metadata": {},
   "outputs": [],
   "source": [
    "\n",
    "# fill out null values\n",
    "df1 = df_palm.fillna(value = 'NOT COUNTRY')\n",
    "df2 = df_forest.fillna(value = 'NOT COUNTRY')\n",
    "df3 = df_land.fillna(value = 'NOT COUNTRY')"
   ]
  },
  {
   "cell_type": "code",
   "execution_count": 17,
   "metadata": {},
   "outputs": [],
   "source": [
    "\n",
    "\n",
    "# New dataframes that contain only countries\n",
    "Code = ['NOT COUNTRY', 'OWID_WRL']\n",
    "\n",
    "indexNames1 = df1[df1['Code'].isin(Code)].index\n",
    "df_palm_countrty = df1.drop(indexNames1)\n",
    "\n",
    "indexNames2 = df2[df2['Code'].isin(Code)].index\n",
    "df_forest_countrty = df2.drop(indexNames2)\n",
    "\n",
    "indexNames3 = df3[df3['Code'].isin(Code)].index\n",
    "df_land_countrty = df3.drop(indexNames3)"
   ]
  },
  {
   "cell_type": "code",
   "execution_count": 12,
   "metadata": {},
   "outputs": [
    {
     "data": {
      "text/plain": [
       "466470.98434925865"
      ]
     },
     "execution_count": 12,
     "metadata": {},
     "output_type": "execute_result"
    }
   ],
   "source": [
    "df_palm_countrty['Tonnes'].mean()"
   ]
  },
  {
   "cell_type": "code",
   "execution_count": 16,
   "metadata": {},
   "outputs": [
    {
     "data": {
      "text/plain": [
       "40567230"
      ]
     },
     "execution_count": 16,
     "metadata": {},
     "output_type": "execute_result"
    }
   ],
   "source": [
    "df_palm_countrty['Tonnes'].max()"
   ]
  },
  {
   "cell_type": "code",
   "execution_count": 18,
   "metadata": {},
   "outputs": [
    {
     "data": {
      "text/plain": [
       "array(['Colombia', 'Ecuador', 'Guatemala', 'Honduras', 'Indonesia',\n",
       "       'Malaysia', 'Melanesia', 'Nigeria', 'Papua New Guinea', 'Thailand'],\n",
       "      dtype=object)"
      ]
     },
     "execution_count": 18,
     "metadata": {},
     "output_type": "execute_result"
    }
   ],
   "source": [
    "# Find the countries produce the most palm oil\n",
    "df_palm_countrty_top = df_palm_countrty[df_palm_countrty['Tonnes'] \n",
    "                                        > df_palm_countrty['Tonnes'].mean()]\n",
    "Top_Production_Country = df_palm_countrty_top.Entity.unique()\n",
    "Top_Production_Country"
   ]
  },
  {
   "cell_type": "code",
   "execution_count": 22,
   "metadata": {},
   "outputs": [
    {
     "ename": "SyntaxError",
     "evalue": "invalid syntax (1682915612.py, line 5)",
     "output_type": "error",
     "traceback": [
      "\u001b[0;36m  Input \u001b[0;32mIn [22]\u001b[0;36m\u001b[0m\n\u001b[0;31m    i++\u001b[0m\n\u001b[0m       ^\u001b[0m\n\u001b[0;31mSyntaxError\u001b[0m\u001b[0;31m:\u001b[0m invalid syntax\n"
     ]
    }
   ],
   "source": [
    "print(\"The countries that produce the most palm oil are:\\n\")\n",
    "for country in Top_Production_Country:\n",
    "    i= 1\n",
    "    print(i, \".\", country)\n",
    "    i++"
   ]
  },
  {
   "cell_type": "code",
   "execution_count": null,
   "metadata": {},
   "outputs": [],
   "source": []
  },
  {
   "cell_type": "code",
   "execution_count": null,
   "metadata": {},
   "outputs": [],
   "source": []
  },
  {
   "cell_type": "code",
   "execution_count": null,
   "metadata": {},
   "outputs": [],
   "source": []
  },
  {
   "cell_type": "code",
   "execution_count": null,
   "metadata": {},
   "outputs": [],
   "source": []
  },
  {
   "cell_type": "code",
   "execution_count": null,
   "metadata": {},
   "outputs": [],
   "source": []
  },
  {
   "cell_type": "code",
   "execution_count": null,
   "metadata": {},
   "outputs": [],
   "source": []
  },
  {
   "cell_type": "code",
   "execution_count": null,
   "metadata": {},
   "outputs": [],
   "source": []
  }
 ],
 "metadata": {
  "kernelspec": {
   "display_name": "Python 3 (ipykernel)",
   "language": "python",
   "name": "python3"
  },
  "language_info": {
   "codemirror_mode": {
    "name": "ipython",
    "version": 3
   },
   "file_extension": ".py",
   "mimetype": "text/x-python",
   "name": "python",
   "nbconvert_exporter": "python",
   "pygments_lexer": "ipython3",
   "version": "3.10.4"
  },
  "vscode": {
   "interpreter": {
    "hash": "10e9adc802a16d7d010a82b34bdd359448509f96121fbe0352d8e1de6e9e6523"
   }
  }
 },
 "nbformat": 4,
 "nbformat_minor": 2
}
