{
 "cells": [
  {
   "cell_type": "code",
   "execution_count": 1,
   "metadata": {},
   "outputs": [],
   "source": [
    "import pandas as pd\n",
    "import os\n",
    "import matplotlib.pyplot as plt\n"
   ]
  },
  {
   "cell_type": "code",
   "execution_count": 2,
   "metadata": {},
   "outputs": [
    {
     "name": "stdout",
     "output_type": "stream",
     "text": [
      "../data/palm_oil_production.csv\n"
     ]
    }
   ],
   "source": [
    "# read data from data folder \n",
    "CSV_PATH = os.path.join('..', 'data','palm_oil_production.csv')\n",
    "print(CSV_PATH)\n",
    "\n",
    "COLS_TO_USE = ['Entity', 'Code', \n",
    "              'Year', 'Tonnes']\n",
    "\n",
    "df = pd.read_csv(CSV_PATH,\n",
    "#               index_col='id', \n",
    "               usecols=COLS_TO_USE)\n"
   ]
  }
 ],
 "metadata": {
  "kernelspec": {
   "display_name": "Python 3 (ipykernel)",
   "language": "python",
   "name": "python3"
  },
  "language_info": {
   "codemirror_mode": {
    "name": "ipython",
    "version": 3
   },
   "file_extension": ".py",
   "mimetype": "text/x-python",
   "name": "python",
   "nbconvert_exporter": "python",
   "pygments_lexer": "ipython3",
   "version": "3.10.4"
  },
  "vscode": {
   "interpreter": {
    "hash": "3997a26e0f11bc5071068b161345ace32a9773511cfd4472685f74f527cd230d"
   }
  }
 },
 "nbformat": 4,
 "nbformat_minor": 2
}
