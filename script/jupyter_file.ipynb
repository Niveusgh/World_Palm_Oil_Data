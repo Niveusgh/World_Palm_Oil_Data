{
 "cells": [
  {
   "cell_type": "code",
   "execution_count": 1,
   "metadata": {},
   "outputs": [],
   "source": [
    "import pandas as pd\n",
    "import numpy as np\n",
    "import os\n",
    "import matplotlib.pyplot as plt\n"
   ]
  },
  {
   "cell_type": "code",
   "execution_count": 2,
   "metadata": {},
   "outputs": [
    {
     "name": "stdout",
     "output_type": "stream",
     "text": [
      "../data/palm_oil_production.csv\n"
     ]
    }
   ],
   "source": [
    "# read data from data folder \n",
    "CSV_PATH = os.path.join('..', 'data','palm_oil_production.csv')\n",
    "print(CSV_PATH)\n",
    "\n",
    "COLS_TO_USE = ['Entity', 'Code', \n",
    "              'Year', 'Tonnes']\n",
    "\n",
    "df = pd.read_csv(CSV_PATH,\n",
    "#               index_col='id', \n",
    "               usecols=COLS_TO_USE)\n"
   ]
  },
  {
   "cell_type": "code",
   "execution_count": 4,
   "metadata": {},
   "outputs": [
    {
     "name": "stdout",
     "output_type": "stream",
     "text": [
      "<class 'pandas.core.frame.DataFrame'>\n",
      "RangeIndex: 3468 entries, 0 to 3467\n",
      "Data columns (total 4 columns):\n",
      " #   Column  Non-Null Count  Dtype \n",
      "---  ------  --------------  ----- \n",
      " 0   Entity  3468 non-null   object\n",
      " 1   Code    2486 non-null   object\n",
      " 2   Year    3468 non-null   int64 \n",
      " 3   Tonnes  3468 non-null   int64 \n",
      "dtypes: int64(2), object(2)\n",
      "memory usage: 108.5+ KB\n"
     ]
    }
   ],
   "source": [
    "df.info()"
   ]
  },
  {
   "cell_type": "code",
   "execution_count": 5,
   "metadata": {
    "scrolled": true
   },
   "outputs": [
    {
     "data": {
      "text/plain": [
       "Entity      0\n",
       "Code      982\n",
       "Year        0\n",
       "Tonnes      0\n",
       "dtype: int64"
      ]
     },
     "execution_count": 5,
     "metadata": {},
     "output_type": "execute_result"
    }
   ],
   "source": [
    "df.isnull().sum()"
   ]
  },
  {
   "cell_type": "code",
   "execution_count": 15,
   "metadata": {},
   "outputs": [
    {
     "data": {
      "text/plain": [
       "Africa                                     58\n",
       "Nigeria                                    58\n",
       "Guinea-Bissau                              58\n",
       "Honduras                                   58\n",
       "Indonesia                                  58\n",
       "Americas                                   58\n",
       "Land Locked Developing Countries           58\n",
       "Least Developed Countries                  58\n",
       "Liberia                                    58\n",
       "Low Income Food Deficit Countries          58\n",
       "Malaysia                                   58\n",
       "Melanesia                                  58\n",
       "Mexico                                     58\n",
       "Middle Africa                              58\n",
       "Net Food Importing Developing Countries    58\n",
       "Oceania                                    58\n",
       "Ghana                                      58\n",
       "Paraguay                                   58\n",
       "Philippines                                58\n",
       "Sao Tome and Principe                      58\n",
       "Senegal                                    58\n",
       "Sierra Leone                               58\n",
       "Small island developing States             58\n",
       "Solomon Islands                            58\n",
       "South America                              58\n",
       "South Eastern Asia                         58\n",
       "Tanzania                                   58\n",
       "Thailand                                   58\n",
       "Togo                                       58\n",
       "Western Africa                             58\n",
       "Guinea                                     58\n",
       "World                                      58\n",
       "Cote d'Ivoire                              58\n",
       "Central African Republic                   58\n",
       "China                                      58\n",
       "Gambia                                     58\n",
       "Colombia                                   58\n",
       "Brazil                                     58\n",
       "Benin                                      58\n",
       "Congo                                      58\n",
       "Costa Rica                                 58\n",
       "Cameroon                                   58\n",
       "Burundi                                    58\n",
       "Democratic Republic of Congo               58\n",
       "Eastern Africa                             58\n",
       "Eastern Asia                               58\n",
       "Ecuador                                    58\n",
       "Equatorial Guinea                          58\n",
       "Asia                                       58\n",
       "Angola                                     58\n",
       "Gabon                                      58\n",
       "Central America                            58\n",
       "Nicaragua                                  51\n",
       "Papua New Guinea                           48\n",
       "Name: Entity, dtype: int64"
      ]
     },
     "execution_count": 15,
     "metadata": {},
     "output_type": "execute_result"
    }
   ],
   "source": [
    "entity_counts = df['Entity'].value_counts()\n",
    "ey_counts[entity_counts > entity_counts.mean()]\n"
   ]
  },
  {
   "cell_type": "code",
   "execution_count": 12,
   "metadata": {},
   "outputs": [
    {
     "data": {
      "text/plain": [
       "dtype('int64')"
      ]
     },
     "execution_count": 12,
     "metadata": {},
     "output_type": "execute_result"
    }
   ],
   "source": [
    "entity_counts.dtype"
   ]
  },
  {
   "cell_type": "code",
   "execution_count": null,
   "metadata": {},
   "outputs": [],
   "source": []
  },
  {
   "cell_type": "code",
   "execution_count": 9,
   "metadata": {},
   "outputs": [
    {
     "data": {
      "text/plain": [
       "46.86486486486486"
      ]
     },
     "execution_count": 9,
     "metadata": {},
     "output_type": "execute_result"
    }
   ],
   "source": [
    "entity_counts.mean()"
   ]
  },
  {
   "cell_type": "code",
   "execution_count": null,
   "metadata": {},
   "outputs": [],
   "source": []
  },
  {
   "cell_type": "code",
   "execution_count": null,
   "metadata": {},
   "outputs": [],
   "source": []
  }
 ],
 "metadata": {
  "kernelspec": {
   "display_name": "Python 3 (ipykernel)",
   "language": "python",
   "name": "python3"
  },
  "language_info": {
   "codemirror_mode": {
    "name": "ipython",
    "version": 3
   },
   "file_extension": ".py",
   "mimetype": "text/x-python",
   "name": "python",
   "nbconvert_exporter": "python",
   "pygments_lexer": "ipython3",
   "version": "3.10.4"
  },
  "vscode": {
   "interpreter": {
    "hash": "3997a26e0f11bc5071068b161345ace32a9773511cfd4472685f74f527cd230d"
   }
  }
 },
 "nbformat": 4,
 "nbformat_minor": 2
}
